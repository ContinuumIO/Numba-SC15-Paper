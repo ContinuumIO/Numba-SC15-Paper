{
 "cells": [
  {
   "cell_type": "markdown",
   "metadata": {
    "slideshow": {
     "slide_type": "slide"
    }
   },
   "source": [
    "# Numba\n",
    "# A LLVM-based Python JIT Compiler\n",
    "### Siu Kwan Lam\n",
    "### Antoine Pitrou, Stanley Seibert\n",
    "\n",
    "#### siu@continuum.io"
   ]
  },
  {
   "cell_type": "markdown",
   "metadata": {
    "slideshow": {
     "slide_type": "slide"
    }
   },
   "source": [
    "## Introduction\n",
    "\n",
    "### Numba\n",
    "* A Python JIT that targets scientific Python code\n",
    "* JIT as a library \n",
    "    * We don't replace CPython \n",
    "* Targets a (expanding) subset of Python\n",
    "* The Goal\n",
    "    * Improve CPython performance in scientific computation\n",
    "    * Scale Python from prototype to production"
   ]
  },
  {
   "cell_type": "markdown",
   "metadata": {
    "slideshow": {
     "slide_type": "slide"
    }
   },
   "source": [
    "## Python\n",
    "\n",
    "* Easy to read\n",
    "* Dynamically typed, interpreted language\n",
    "* Popular for scientific computing\n",
    "* Flexible (duck typing), high productivity\n"
   ]
  },
  {
   "cell_type": "markdown",
   "metadata": {
    "slideshow": {
     "slide_type": "slide"
    }
   },
   "source": [
    "## Our Challenges\n",
    "\n",
    "* Python language is very dynamic\n",
    "    * monkey patching, duck typing\n",
    "* CPython interpreter is very efficient already:\n",
    "    * interpreter loop unrolling has very little performance effect"
   ]
  },
  {
   "cell_type": "markdown",
   "metadata": {
    "slideshow": {
     "slide_type": "subslide"
    }
   },
   "source": [
    "\n",
    "* Many attempts and approaches:\n",
    "    * PyPy/Pysco, Unladen Swallow, Pyston, etc..\n",
    "* We want C/Fortran speed; e.g. >100x not just a mere 2x\n",
    "* Continuum Analytics was just a small startup back then\n",
    "    * Need a Minimum Viable Product quickly"
   ]
  },
  {
   "cell_type": "markdown",
   "metadata": {
    "slideshow": {
     "slide_type": "slide"
    }
   },
   "source": [
    "## Limiting our scope\n",
    "\n",
    "### What is scientific code?\n",
    "\n",
    "* Numeric heavy\n",
    "* Array heavy\n",
    "* Loop heavy\n",
    "* Performance bottleneck is concentrated in a few places"
   ]
  },
  {
   "cell_type": "markdown",
   "metadata": {
    "slideshow": {
     "slide_type": "subslide"
    }
   },
   "source": [
    "### What we did?\n",
    "* Support for native numeric types\n",
    "    * int32, int64, float64, ...\n",
    "* Builtin support for NumPy arrays (the defacto array impl)\n",
    "* Type inference at callsite\n",
    "* Function at a time\n",
    "    * API: @jit\n",
    "* Overloading:\n",
    "    * Compile new implementation for each type signature\n",
    "    * Behaves like duck typing\n",
    "* No callback to the interpreter\n",
    "    * No GIL!"
   ]
  },
  {
   "cell_type": "markdown",
   "metadata": {
    "slideshow": {
     "slide_type": "subslide"
    }
   },
   "source": [
    "### What we did not?\n",
    "* Classes\n",
    "    * Worry about it later (we have a PoC now)\n",
    "* Monkey patching\n",
    "    * Impossible without changing the interpreter\n",
    "* Mutable globals\n",
    "    * Globals are treated as constant\n",
    "    * Can't detect changes in globals"
   ]
  },
  {
   "cell_type": "markdown",
   "metadata": {
    "slideshow": {
     "slide_type": "slide"
    }
   },
   "source": [
    "## NumPy arrays\n",
    "### A de facto multi-dimensional array\n",
    "\n",
    "* Foundation for most of the scientific library in Python\n",
    "* Stores data a single contiguous (C or F) or strided memory\n",
    "* Memory is typed (dtype)\n",
    "    * Provides a numeric type system for Python"
   ]
  },
  {
   "cell_type": "code",
   "execution_count": 16,
   "metadata": {
    "collapsed": false
   },
   "outputs": [
    {
     "name": "stdout",
     "output_type": "stream",
     "text": [
      "<class 'numpy.int64'>\n"
     ]
    }
   ],
   "source": [
    "import numpy as np\n",
    "a = np.array([0])\n",
    "print(type(a[0]))"
   ]
  },
  {
   "cell_type": "markdown",
   "metadata": {
    "slideshow": {
     "slide_type": "subslide"
    }
   },
   "source": [
    "### Performance\n",
    "\n",
    "* Fast if offloaded to math implementation in C or Fortran\n",
    "    * BLAS, LAPACK, ...\n",
    "* Slow in Python\n",
    "    * Interpreter overhead\n",
    "    * Layers of indirection\n",
    "    * Type dispatch\n"
   ]
  },
  {
   "cell_type": "markdown",
   "metadata": {
    "slideshow": {
     "slide_type": "subslide"
    }
   },
   "source": [
    "#### Custom code is slow\n"
   ]
  },
  {
   "cell_type": "code",
   "execution_count": 17,
   "metadata": {
    "collapsed": true
   },
   "outputs": [],
   "source": [
    "def arr_sum(arr1, arr2, out):\n",
    "    for i in range(out.size):\n",
    "        out[i] = arr1[i] + arr2[i]"
   ]
  },
  {
   "cell_type": "markdown",
   "metadata": {
    "slideshow": {
     "slide_type": "fragment"
    }
   },
   "source": [
    "## We can fix that"
   ]
  },
  {
   "cell_type": "code",
   "execution_count": 18,
   "metadata": {
    "collapsed": false,
    "slideshow": {
     "slide_type": "subslide"
    }
   },
   "outputs": [],
   "source": [
    "from numba import jit\n",
    "\n",
    "@jit\n",
    "def arr_sum_fast(arr1, arr2, out):\n",
    "    for i in range(out.size):\n",
    "        out[i] = arr1[i] + arr2[i]\n",
    "            "
   ]
  },
  {
   "cell_type": "code",
   "execution_count": 19,
   "metadata": {
    "collapsed": false
   },
   "outputs": [
    {
     "name": "stdout",
     "output_type": "stream",
     "text": [
      "1000 loops, best of 3: 312 µs per loop\n",
      "The slowest run took 80444.94 times longer than the fastest. This could mean that an intermediate result is being cached \n",
      "1000000 loops, best of 3: 980 ns per loop\n"
     ]
    }
   ],
   "source": [
    "import numpy as np\n",
    "\n",
    "arr = np.linspace(0, 1, 1000).astype(np.float32)\n",
    "out = np.zeros_like(arr)\n",
    "\n",
    "%timeit arr_sum(arr, arr, out)\n",
    "%timeit arr_sum_fast(arr, arr, out)"
   ]
  },
  {
   "cell_type": "code",
   "execution_count": 20,
   "metadata": {
    "collapsed": false,
    "scrolled": false,
    "slideshow": {
     "slide_type": "skip"
    }
   },
   "outputs": [],
   "source": [
    "from llvmlite import binding as ll\n",
    "\n",
    "arr_sum_fast.compile(\"(float32[::1],float32[::1],float32[::1])\")\n",
    "cr = list(arr_sum_fast._compileinfos.values())[0]\n",
    "fn = cr.library.get_function(cr.fndesc.llvm_func_name)\n",
    "\n",
    "for bb in fn.basic_blocks:\n",
    "    bb_str = str(bb)\n",
    "    if \"<4 x float>\" in bb_str:\n",
    "        simd_in_bb = bb_str"
   ]
  },
  {
   "cell_type": "code",
   "execution_count": 21,
   "metadata": {
    "collapsed": false,
    "slideshow": {
     "slide_type": "subslide"
    }
   },
   "outputs": [
    {
     "name": "stdout",
     "output_type": "stream",
     "text": [
      "\n",
      "vector.body:                                      ; preds = %vector.body.preheader, %vector.body\n",
      "  %lsr.iv95 = phi i64 [ %13, %vector.body.preheader ], [ %lsr.iv.next96, %vector.body ]\n",
      "  %lsr.iv88 = phi float* [ %scevgep87, %vector.body.preheader ], [ %scevgep89, %vector.body ]\n",
      "  %lsr.iv84 = phi float* [ %scevgep83, %vector.body.preheader ], [ %scevgep85, %vector.body ]\n",
      "  %lsr.iv80 = phi float* [ %scevgep79, %vector.body.preheader ], [ %scevgep81, %vector.body ]\n",
      "  %lsr.iv8082 = bitcast float* %lsr.iv80 to <4 x float>*\n",
      "  %lsr.iv8486 = bitcast float* %lsr.iv84 to <4 x float>*\n",
      "  %lsr.iv8890 = bitcast float* %lsr.iv88 to <4 x float>*\n",
      "  %14 = bitcast float* undef to <4 x float>*\n",
      "  %15 = bitcast float* undef to <4 x float>*\n",
      "  %scevgep91 = getelementptr <4 x float>* %lsr.iv8890, i64 -1\n",
      "  %wide.load = load <4 x float>* %scevgep91, align 4\n",
      "  %wide.load63 = load <4 x float>* %lsr.iv8890, align 4\n",
      "  %scevgep92 = getelementptr <4 x float>* %lsr.iv8486, i64 -1\n",
      "  %wide.load64 = load <4 x float>* %scevgep92, align 4\n",
      "  %wide.load65 = load <4 x float>* %lsr.iv8486, align 4\n",
      "  %16 = fadd <4 x float> %wide.load, %wide.load64\n",
      "  %17 = fadd <4 x float> %wide.load63, %wide.load65\n",
      "  %scevgep93 = getelementptr <4 x float>* %lsr.iv8082, i64 -1\n",
      "  store <4 x float> %16, <4 x float>* %scevgep93, align 4\n",
      "  store <4 x float> %17, <4 x float>* %lsr.iv8082, align 4\n",
      "  %scevgep81 = getelementptr float* %lsr.iv80, i64 8\n",
      "  %scevgep85 = getelementptr float* %lsr.iv84, i64 8\n",
      "  %scevgep89 = getelementptr float* %lsr.iv88, i64 8\n",
      "  %lsr.iv.next96 = add i64 %lsr.iv95, -8\n",
      "  %18 = icmp eq i64 %lsr.iv.next96, 0\n",
      "  br i1 %18, label %middle.block, label %vector.body, !llvm.loop !1\n",
      "\n"
     ]
    }
   ],
   "source": [
    "print(simd_in_bb)"
   ]
  },
  {
   "cell_type": "markdown",
   "metadata": {},
   "source": [
    "## Numba performance is close to C!"
   ]
  },
  {
   "cell_type": "markdown",
   "metadata": {
    "slideshow": {
     "slide_type": "slide"
    }
   },
   "source": [
    "## The compiler pipeline\n"
   ]
  },
  {
   "cell_type": "code",
   "execution_count": 22,
   "metadata": {
    "collapsed": false,
    "slideshow": {
     "slide_type": "skip"
    }
   },
   "outputs": [],
   "source": [
    "import graphviz as gv\n",
    "\n",
    "dot = gv.Source(\"\"\"\n",
    "digraph g {\n",
    "    \"BC\" -> \"NIR\" [style=invis]\n",
    "    \"NIR\" -> \"LLVMIR\" [style=invis]\n",
    "    \"LLVMIR\" -> \"OBJ\" [style=invis]\n",
    "    \n",
    "    { rank=same;\n",
    "        \"BC\" -> \"T\"\n",
    "    }\n",
    "    \n",
    "    { rank=same;\n",
    "        \"NIR\" -> \"TI\" -> \"HLOpt\" -> \"L\"\n",
    "    }\n",
    "    \n",
    "    { rank=same;\n",
    "        \"LLVMIR\" -> \"PA\" -> \"CG\"\n",
    "    }\n",
    "    \n",
    "    { rank=same;\n",
    "        \"OBJ\"\n",
    "    }\n",
    "    \n",
    "    \n",
    "    \"T\" -> \"NIR\" [constraint=false]\n",
    "    \"L\" -> \"LLVMIR\" [constraint=false]\n",
    "    \"CG\" -> \"OBJ\" [constraint=false]\n",
    "    \n",
    "    BC [label=\"Bytecode\", shape=rect]\n",
    "    T  [label=\"Translate\"]\n",
    "    NIR [label=\"Numba IR\", shape=rect]\n",
    "    TI  [label=\"Type Inference\"]\n",
    "    HLOpt [label=\"High level Optimizations\"]\n",
    "    L [label=\"Lower\"]\n",
    "    LLVMIR [label=\"LLVM IR\", shape=rect]\n",
    "    PA [label=\"LLVM Passes\"]\n",
    "    CG [label=\"LLVM CodeGen\"]\n",
    "    OBJ [label=\"Object code\", shape=rect]\n",
    "}\n",
    "\"\"\")\n",
    "\n",
    "import IPython.display as display\n",
    "compiler_pipeline = display.SVG(data=dot.pipe('svg'))"
   ]
  },
  {
   "cell_type": "code",
   "execution_count": 23,
   "metadata": {
    "collapsed": false
   },
   "outputs": [
    {
     "data": {
      "image/svg+xml": [
       "<svg height=\"260pt\" viewBox=\"0.00 0.00 533.81 260.00\" width=\"534pt\" xmlns=\"http://www.w3.org/2000/svg\" xmlns:xlink=\"http://www.w3.org/1999/xlink\">\n",
       "<g class=\"graph\" id=\"graph0\" transform=\"scale(1 1) rotate(0) translate(4 256)\">\n",
       "<title>g</title>\n",
       "<polygon fill=\"white\" points=\"-4,4 -4,-256 529.81,-256 529.81,4 -4,4\" stroke=\"none\"/>\n",
       "<!-- BC -->\n",
       "<g class=\"node\" id=\"node1\"><title>BC</title>\n",
       "<polygon fill=\"none\" points=\"75.9918,-252 7.25329,-252 7.25329,-216 75.9918,-216 75.9918,-252\" stroke=\"black\"/>\n",
       "<text font-family=\"Times,serif\" font-size=\"14.00\" text-anchor=\"middle\" x=\"41.6226\" y=\"-229.8\">Bytecode</text>\n",
       "</g>\n",
       "<!-- NIR -->\n",
       "<g class=\"node\" id=\"node2\"><title>NIR</title>\n",
       "<polygon fill=\"none\" points=\"78.837,-180 4.40815,-180 4.40815,-144 78.837,-144 78.837,-180\" stroke=\"black\"/>\n",
       "<text font-family=\"Times,serif\" font-size=\"14.00\" text-anchor=\"middle\" x=\"41.6226\" y=\"-157.8\">Numba IR</text>\n",
       "</g>\n",
       "<!-- BC&#45;&gt;NIR -->\n",
       "<!-- T -->\n",
       "<g class=\"node\" id=\"node5\"><title>T</title>\n",
       "<ellipse cx=\"136.623\" cy=\"-234\" fill=\"none\" rx=\"42.9006\" ry=\"18\" stroke=\"black\"/>\n",
       "<text font-family=\"Times,serif\" font-size=\"14.00\" text-anchor=\"middle\" x=\"136.623\" y=\"-229.8\">Translate</text>\n",
       "</g>\n",
       "<!-- BC&#45;&gt;T -->\n",
       "<g class=\"edge\" id=\"edge4\"><title>BC-&gt;T</title>\n",
       "<path d=\"M76.1343,-234C78.5931,-234 81.0519,-234 83.5107,-234\" fill=\"none\" stroke=\"black\"/>\n",
       "<polygon fill=\"black\" points=\"83.6192,-237.5 93.6192,-234 83.6191,-230.5 83.6192,-237.5\" stroke=\"black\"/>\n",
       "</g>\n",
       "<!-- LLVMIR -->\n",
       "<g class=\"node\" id=\"node3\"><title>LLVMIR</title>\n",
       "<polygon fill=\"none\" points=\"77.4996,-108 5.7455,-108 5.7455,-72 77.4996,-72 77.4996,-108\" stroke=\"black\"/>\n",
       "<text font-family=\"Times,serif\" font-size=\"14.00\" text-anchor=\"middle\" x=\"41.6226\" y=\"-85.8\">LLVM IR</text>\n",
       "</g>\n",
       "<!-- NIR&#45;&gt;LLVMIR -->\n",
       "<!-- TI -->\n",
       "<g class=\"node\" id=\"node6\"><title>TI</title>\n",
       "<ellipse cx=\"160.623\" cy=\"-162\" fill=\"none\" rx=\"63.5003\" ry=\"18\" stroke=\"black\"/>\n",
       "<text font-family=\"Times,serif\" font-size=\"14.00\" text-anchor=\"middle\" x=\"160.623\" y=\"-157.8\">Type Inference</text>\n",
       "</g>\n",
       "<!-- NIR&#45;&gt;TI -->\n",
       "<g class=\"edge\" id=\"edge5\"><title>NIR-&gt;TI</title>\n",
       "<path d=\"M79.2749,-162C81.87,-162 84.4651,-162 87.0601,-162\" fill=\"none\" stroke=\"black\"/>\n",
       "<polygon fill=\"black\" points=\"87.0697,-165.5 97.0697,-162 87.0697,-158.5 87.0697,-165.5\" stroke=\"black\"/>\n",
       "</g>\n",
       "<!-- OBJ -->\n",
       "<g class=\"node\" id=\"node4\"><title>OBJ</title>\n",
       "<polygon fill=\"none\" points=\"83.368,-36 -0.122921,-36 -0.122921,-0 83.368,-0 83.368,-36\" stroke=\"black\"/>\n",
       "<text font-family=\"Times,serif\" font-size=\"14.00\" text-anchor=\"middle\" x=\"41.6226\" y=\"-13.8\">Object code</text>\n",
       "</g>\n",
       "<!-- LLVMIR&#45;&gt;OBJ -->\n",
       "<!-- PA -->\n",
       "<g class=\"node\" id=\"node9\"><title>PA</title>\n",
       "<ellipse cx=\"155.623\" cy=\"-90\" fill=\"none\" rx=\"59.8058\" ry=\"18\" stroke=\"black\"/>\n",
       "<text font-family=\"Times,serif\" font-size=\"14.00\" text-anchor=\"middle\" x=\"155.623\" y=\"-85.8\">LLVM Passes</text>\n",
       "</g>\n",
       "<!-- LLVMIR&#45;&gt;PA -->\n",
       "<g class=\"edge\" id=\"edge8\"><title>LLVMIR-&gt;PA</title>\n",
       "<path d=\"M77.6929,-90C80.3565,-90 83.0201,-90 85.6837,-90\" fill=\"none\" stroke=\"black\"/>\n",
       "<polygon fill=\"black\" points=\"85.9577,-93.5001 95.9576,-90 85.9576,-86.5001 85.9577,-93.5001\" stroke=\"black\"/>\n",
       "</g>\n",
       "<!-- T&#45;&gt;NIR -->\n",
       "<g class=\"edge\" id=\"edge10\"><title>T-&gt;NIR</title>\n",
       "<path d=\"M116.009,-217.811C103.536,-208.621 87.3754,-196.713 73.305,-186.345\" fill=\"none\" stroke=\"black\"/>\n",
       "<polygon fill=\"black\" points=\"74.9928,-183.241 64.866,-180.127 70.8403,-188.876 74.9928,-183.241\" stroke=\"black\"/>\n",
       "</g>\n",
       "<!-- HLOpt -->\n",
       "<g class=\"node\" id=\"node7\"><title>HLOpt</title>\n",
       "<ellipse cx=\"341.623\" cy=\"-162\" fill=\"none\" rx=\"99.5175\" ry=\"18\" stroke=\"black\"/>\n",
       "<text font-family=\"Times,serif\" font-size=\"14.00\" text-anchor=\"middle\" x=\"341.623\" y=\"-157.8\">High level Optimizations</text>\n",
       "</g>\n",
       "<!-- TI&#45;&gt;HLOpt -->\n",
       "<g class=\"edge\" id=\"edge6\"><title>TI-&gt;HLOpt</title>\n",
       "<path d=\"M223.902,-162C226.517,-162 229.133,-162 231.748,-162\" fill=\"none\" stroke=\"black\"/>\n",
       "<polygon fill=\"black\" points=\"231.836,-165.5 241.836,-162 231.836,-158.5 231.836,-165.5\" stroke=\"black\"/>\n",
       "</g>\n",
       "<!-- L -->\n",
       "<g class=\"node\" id=\"node8\"><title>L</title>\n",
       "<ellipse cx=\"492.623\" cy=\"-162\" fill=\"none\" rx=\"33.3752\" ry=\"18\" stroke=\"black\"/>\n",
       "<text font-family=\"Times,serif\" font-size=\"14.00\" text-anchor=\"middle\" x=\"492.623\" y=\"-157.8\">Lower</text>\n",
       "</g>\n",
       "<!-- HLOpt&#45;&gt;L -->\n",
       "<g class=\"edge\" id=\"edge7\"><title>HLOpt-&gt;L</title>\n",
       "<path d=\"M441.306,-162C443.937,-162 446.568,-162 449.199,-162\" fill=\"none\" stroke=\"black\"/>\n",
       "<polygon fill=\"black\" points=\"449.347,-165.5 459.347,-162 449.347,-158.5 449.347,-165.5\" stroke=\"black\"/>\n",
       "</g>\n",
       "<!-- L&#45;&gt;LLVMIR -->\n",
       "<g class=\"edge\" id=\"edge11\"><title>L-&gt;LLVMIR</title>\n",
       "<path d=\"M468.139,-149.727C462.487,-147.51 456.427,-145.43 450.623,-144 296.014,-105.904 246.922,-143.44 87.8551,-107.898\" fill=\"none\" stroke=\"black\"/>\n",
       "<polygon fill=\"black\" points=\"88.2472,-104.397 77.7173,-105.568 86.6792,-111.219 88.2472,-104.397\" stroke=\"black\"/>\n",
       "</g>\n",
       "<!-- CG -->\n",
       "<g class=\"node\" id=\"node10\"><title>CG</title>\n",
       "<ellipse cx=\"303.623\" cy=\"-90\" fill=\"none\" rx=\"69.92\" ry=\"18\" stroke=\"black\"/>\n",
       "<text font-family=\"Times,serif\" font-size=\"14.00\" text-anchor=\"middle\" x=\"303.623\" y=\"-85.8\">LLVM CodeGen</text>\n",
       "</g>\n",
       "<!-- PA&#45;&gt;CG -->\n",
       "<g class=\"edge\" id=\"edge9\"><title>PA-&gt;CG</title>\n",
       "<path d=\"M215.458,-90C218.07,-90 220.682,-90 223.293,-90\" fill=\"none\" stroke=\"black\"/>\n",
       "<polygon fill=\"black\" points=\"223.367,-93.5001 233.367,-90 223.367,-86.5001 223.367,-93.5001\" stroke=\"black\"/>\n",
       "</g>\n",
       "<!-- CG&#45;&gt;OBJ -->\n",
       "<g class=\"edge\" id=\"edge12\"><title>CG-&gt;OBJ</title>\n",
       "<path d=\"M256.782,-76.4854C210.748,-64.1863 140.67,-45.4632 93.0996,-32.7534\" fill=\"none\" stroke=\"black\"/>\n",
       "<polygon fill=\"black\" points=\"93.8715,-29.3369 83.3069,-30.137 92.0646,-36.0997 93.8715,-29.3369\" stroke=\"black\"/>\n",
       "</g>\n",
       "</g>\n",
       "</svg>"
      ],
      "text/plain": [
       "<IPython.core.display.SVG object>"
      ]
     },
     "execution_count": 23,
     "metadata": {},
     "output_type": "execute_result"
    }
   ],
   "source": [
    "compiler_pipeline"
   ]
  },
  {
   "cell_type": "markdown",
   "metadata": {
    "collapsed": false,
    "slideshow": {
     "slide_type": "slide"
    }
   },
   "source": [
    "## Translate: Bytecode to Numba IR\n",
    "\n",
    "### Python bytecode \n",
    "\n",
    "* stack based\n",
    "* implicit fallthrough\n",
    "* jump by offset or absolute address\n",
    "* complex instructions\n",
    "    * e.g. JUMP_IF_TRUE_OR_POP"
   ]
  },
  {
   "cell_type": "markdown",
   "metadata": {
    "slideshow": {
     "slide_type": "subslide"
    }
   },
   "source": [
    "### Numba IR\n",
    "* non SSA\n",
    "* Register-based (infinite)\n",
    "* Basic-Block"
   ]
  },
  {
   "cell_type": "markdown",
   "metadata": {
    "slideshow": {
     "slide_type": "subslide"
    }
   },
   "source": [
    "### Translate \n",
    "* CFA converts to basic-block\n",
    "* CFA+DFA converts stack op to register\n",
    "* DFA assigns variable versions\n",
    "    * pretends to have scopes\n",
    "* Heavily relies on heuristics\n",
    "* Why bytecode? AST relies on source, which may not be available"
   ]
  },
  {
   "cell_type": "markdown",
   "metadata": {
    "slideshow": {
     "slide_type": "slide"
    }
   },
   "source": [
    "## Type Inference\n",
    "\n",
    "* Changes semantic\n",
    "* Assign a single type to each variable\n",
    "    * coerce types implicitly (numpy behavior)\n",
    "* Failure triggers fallback to object mode (unrolled interpreter)\n",
    "* Function is overloaded"
   ]
  },
  {
   "cell_type": "markdown",
   "metadata": {
    "slideshow": {
     "slide_type": "subslide"
    }
   },
   "source": [
    "### Effect of variable versioning\n"
   ]
  },
  {
   "cell_type": "code",
   "execution_count": 24,
   "metadata": {
    "collapsed": true
   },
   "outputs": [],
   "source": [
    "@jit\n",
    "def foo():\n",
    "    a = 1      # a is int\n",
    "    bar(a)\n",
    "    a += 2.5   # a is float\n",
    "    bar(a)\n",
    "    a += 2j    # a is complex\n",
    "    bar(a)\n",
    "    return a"
   ]
  },
  {
   "cell_type": "markdown",
   "metadata": {},
   "source": [
    "* ``bar(a)`` is specialized at call-site\n",
    "* compile time resolved function overloading (mostly)\n",
    "    * except for call from interpreter\n",
    "    * C++ overload resolution logic"
   ]
  },
  {
   "cell_type": "markdown",
   "metadata": {
    "slideshow": {
     "slide_type": "slide"
    }
   },
   "source": [
    "## High-level optimizations\n"
   ]
  },
  {
   "cell_type": "markdown",
   "metadata": {
    "slideshow": {
     "slide_type": "subslide"
    }
   },
   "source": [
    "\n",
    "### Deferred loop specialization\n",
    "\n",
    "* Only if a function fails type inference\n",
    "* Loops are extracted into a new function\n",
    "* Function is again jit-ed\n",
    "* Runtime types are used to determine types in loop"
   ]
  },
  {
   "cell_type": "code",
   "execution_count": 25,
   "metadata": {
    "collapsed": true,
    "slideshow": {
     "slide_type": "subslide"
    }
   },
   "outputs": [],
   "source": [
    "from numba import jit\n",
    "from timeit import default_timer\n",
    "\n",
    "@jit\n",
    "def foo(arr):\n",
    "    ts = default_timer()\n",
    "    c = 0\n",
    "    for i in arr:\n",
    "        c += i\n",
    "    te = default_timer()\n",
    "    return c, te - ts"
   ]
  },
  {
   "cell_type": "code",
   "execution_count": 26,
   "metadata": {
    "collapsed": false
   },
   "outputs": [
    {
     "name": "stdout",
     "output_type": "stream",
     "text": [
      "foo (array(int64, 1d, C),)\n",
      "--------------------------------------------------------------------------------\n",
      "# File: <ipython-input-25-f52d7c9d9e68>\n",
      "# --- LINE 4 --- \n",
      "\n",
      "@jit\n",
      "\n",
      "# --- LINE 5 --- \n",
      "\n",
      "def foo(arr):\n",
      "\n",
      "    # --- LINE 6 --- \n",
      "    # label 0\n",
      "    #   arr = arg(0, name=arr)  :: pyobject\n",
      "    #   $0.1 = global(default_timer: <built-in function perf_counter>)  :: pyobject\n",
      "    #   $0.2 = call $0.1()  :: pyobject\n",
      "    #   del $0.1\n",
      "    #   ts = $0.2  :: pyobject\n",
      "    #   del $0.2\n",
      "\n",
      "    ts = default_timer()\n",
      "\n",
      "    # --- LINE 7 --- \n",
      "    #   $const0.3 = const(int, 0)  :: pyobject\n",
      "    #   c = $const0.3  :: pyobject\n",
      "    #   del $const0.3\n",
      "\n",
      "    c = 0\n",
      "\n",
      "    # --- LINE 8 --- \n",
      "    #   jump 18.1\n",
      "    # label 18.1\n",
      "    #   $const18.1.1 = const(LiftedLoop, LiftedLoop(<function foo at 0x10c508bf8>))  :: XXX Lifted Loop XXX\n",
      "    #   $18.1.4 = call $const18.1.1(c, arr)  :: XXX Lifted Loop XXX\n",
      "    #   del c\n",
      "    #   del arr\n",
      "    #   del $const18.1.1\n",
      "    #   $18.1.6 = exhaust_iter(value=$18.1.4, count=1)  :: pyobject\n",
      "    #   del $18.1.4\n",
      "    #   $18.1.5 = static_getitem(value=$18.1.6, index=0)  :: pyobject\n",
      "    #   del $18.1.6\n",
      "    #   c.1 = $18.1.5  :: pyobject\n",
      "    #   del $18.1.5\n",
      "    #   jump 42\n",
      "\n",
      "    for i in arr:\n",
      "\n",
      "        # --- LINE 9 --- \n",
      "\n",
      "        c += i\n",
      "\n",
      "    # --- LINE 10 --- \n",
      "    # label 42\n",
      "    #   $42.1 = global(default_timer: <built-in function perf_counter>)  :: pyobject\n",
      "    #   $42.2 = call $42.1()  :: pyobject\n",
      "    #   del $42.1\n",
      "    #   te = $42.2  :: pyobject\n",
      "    #   del $42.2\n",
      "\n",
      "    te = default_timer()\n",
      "\n",
      "    # --- LINE 11 --- \n",
      "    #   $42.6 = te - ts  :: pyobject\n",
      "    #   del ts\n",
      "    #   del te\n",
      "    #   $42.7 = build_tuple(items=[Var(c.1, <ipython-input-25-f52d7c9d9e68> (8)), Var($42.6, <ipython-input-25-f52d7c9d9e68> (11))])  :: pyobject\n",
      "    #   del c.1\n",
      "    #   del $42.6\n",
      "    #   $42.8 = cast(value=$42.7)  :: pyobject\n",
      "    #   del $42.7\n",
      "    #   return $42.8\n",
      "\n",
      "    return c, te - ts\n",
      "\n",
      "# The function contains lifted loops\n",
      "# Loop at line 8\n",
      "# Has 1 overloads\n",
      "# File: <ipython-input-25-f52d7c9d9e68>\n",
      "# --- LINE 4 --- \n",
      "\n",
      "@jit\n",
      "\n",
      "# --- LINE 5 --- \n",
      "\n",
      "def foo(arr):\n",
      "\n",
      "    # --- LINE 6 --- \n",
      "\n",
      "    ts = default_timer()\n",
      "\n",
      "    # --- LINE 7 --- \n",
      "\n",
      "    c = 0\n",
      "\n",
      "    # --- LINE 8 --- \n",
      "    # label 15\n",
      "    #   c = arg(0, name=c)  :: int64\n",
      "    #   arr = arg(1, name=arr)  :: array(int64, 1d, C)\n",
      "    #   $15.2 = getiter(value=arr)  :: iter(array(int64, 1d, C))\n",
      "    #   del arr\n",
      "    #   $phi22.1 = $15.2  :: iter(array(int64, 1d, C))\n",
      "    #   del $15.2\n",
      "    #   jump 22\n",
      "    # label 22\n",
      "    #   $22.2 = iternext(value=$phi22.1)  :: pair<int64, bool>\n",
      "    #   $22.3 = pair_first(value=$22.2)  :: int64\n",
      "    #   $22.4 = pair_second(value=$22.2)  :: bool\n",
      "    #   del $22.2\n",
      "    #   $phi25.1 = $22.3  :: int64\n",
      "    #   del $22.3\n",
      "    #   branch $22.4, 25, 41\n",
      "    # label 25\n",
      "    #   i = $phi25.1  :: int64\n",
      "    #   del $phi25.1\n",
      "\n",
      "    for i in arr:\n",
      "\n",
      "        # --- LINE 9 --- \n",
      "        #   $25.4 = inplace_binop(rhs=i, fn=+=, lhs=c, immutable_fn=+)  :: int64\n",
      "        #   del i\n",
      "        #   c = $25.4  :: int64\n",
      "        #   del $25.4\n",
      "        #   jump 22\n",
      "        # label 41\n",
      "        #   del $phi25.1\n",
      "        #   del $phi22.1\n",
      "        #   del $22.4\n",
      "        #   jump 42\n",
      "        # label 42\n",
      "        #   $42.2 = build_tuple(items=[Var(c, <ipython-input-25-f52d7c9d9e68> (8))])  :: (int64 x 1)\n",
      "        #   del c\n",
      "        #   $42.3 = cast(value=$42.2)  :: (int64 x 1)\n",
      "        #   del $42.2\n",
      "        #   return $42.3\n",
      "\n",
      "        c += i\n",
      "\n",
      "    # --- LINE 10 --- \n",
      "\n",
      "    te = default_timer()\n",
      "\n",
      "    # --- LINE 11 --- \n",
      "\n",
      "    return c, te - ts\n",
      "\n",
      "\n",
      "\n",
      "================================================================================\n"
     ]
    }
   ],
   "source": [
    "import numpy as np\n",
    "foo(np.arange(10))\n",
    "foo.inspect_types()"
   ]
  },
  {
   "cell_type": "markdown",
   "metadata": {
    "slideshow": {
     "slide_type": "subslide"
    }
   },
   "source": [
    "### Array Fusion\n"
   ]
  },
  {
   "cell_type": "markdown",
   "metadata": {},
   "source": [
    "* Avoids creating intermediate array \n",
    "* Fuse into one loop"
   ]
  },
  {
   "cell_type": "code",
   "execution_count": 27,
   "metadata": {
    "collapsed": false,
    "slideshow": {
     "slide_type": "subslide"
    }
   },
   "outputs": [
    {
     "name": "stdout",
     "output_type": "stream",
     "text": [
      "axpy (array(float64, 1d, A), array(float64, 1d, A), array(float64, 1d, A))\n",
      "--------------------------------------------------------------------------------\n",
      "# File: <ipython-input-27-cea9bff9a403>\n",
      "# --- LINE 3 --- \n",
      "\n",
      "@jit\n",
      "\n",
      "# --- LINE 4 --- \n",
      "\n",
      "def axpy(a, x, y):  # all arguments are array\n",
      "\n",
      "    # --- LINE 5 --- \n",
      "    # label 0\n",
      "    #   a = arg(0, name=a)  :: array(float64, 1d, A)\n",
      "    #   x = arg(1, name=x)  :: array(float64, 1d, A)\n",
      "    #   y = arg(2, name=y)  :: array(float64, 1d, A)\n",
      "    #   $0.5 = arrayexpr(ty=array(float64, 1d, C), expr=('+', [('*', [Var(a, <ipython-input-27-cea9bff9a403> (5)), Var(x, <ipython-input-27-cea9bff9a403> (5))]), Var(y, <ipython-input-27-cea9bff9a403> (5))]))  :: array(float64, 1d, C)\n",
      "    #   del a\n",
      "    #   del x\n",
      "    #   del y\n",
      "    #   $0.6 = cast(value=$0.5)  :: array(float64, 1d, C)\n",
      "    #   del $0.5\n",
      "    #   return $0.6\n",
      "\n",
      "    return a * x + y\n",
      "\n",
      "\n",
      "================================================================================\n"
     ]
    }
   ],
   "source": [
    "from numba import jit, float64\n",
    "\n",
    "@jit\n",
    "def axpy(a, x, y):  # all arguments are array\n",
    "    return a * x + y\n",
    "\n",
    "axpy.compile((float64[:], float64[:], float64[:]))\n",
    "axpy.inspect_types()"
   ]
  },
  {
   "cell_type": "markdown",
   "metadata": {
    "slideshow": {
     "slide_type": "slide"
    }
   },
   "source": [
    "# Lower\n",
    "\n",
    "* Translate Numba IR to LLVM IR\n",
    "* Simple ABI\n",
    "    * only use non-aggregate scalar values for args\n",
    "    * byval aggregates are expanded into their elements\n",
    "    * output argument for return\n",
    "    * exception by return value"
   ]
  },
  {
   "cell_type": "markdown",
   "metadata": {
    "slideshow": {
     "slide_type": "subslide"
    }
   },
   "source": [
    "## Multi Targets\n",
    "\n",
    "* Support for CUDA GPUs and HSA APUs\n",
    "* Target specific intrinsics are exposed"
   ]
  },
  {
   "cell_type": "markdown",
   "metadata": {
    "slideshow": {
     "slide_type": "subslide"
    }
   },
   "source": [
    "### CUDA"
   ]
  },
  {
   "cell_type": "code",
   "execution_count": 28,
   "metadata": {
    "collapsed": false
   },
   "outputs": [
    {
     "name": "stdout",
     "output_type": "stream",
     "text": [
      "[[ 29.6502533   31.63289261  29.12779045 ...,  29.39906311  26.12052917\n",
      "   30.7340374 ]\n",
      " [ 28.13223076  32.86826324  28.57348251 ...,  28.28536224  28.14770889\n",
      "   31.69555664]\n",
      " [ 30.47977066  31.30565453  27.15357399 ...,  29.39358521  28.86541557\n",
      "   30.84542465]\n",
      " ..., \n",
      " [ 31.84250641  34.15019989  32.21094513 ...,  31.32840919  30.13047028\n",
      "   35.11793518]\n",
      " [ 31.37529564  33.70762253  30.18844032 ...,  27.89414978  28.86873436\n",
      "   31.61554146]\n",
      " [ 31.72135162  33.72534943  31.25938034 ...,  28.98091507  30.00896072\n",
      "   32.70479584]]\n"
     ]
    }
   ],
   "source": [
    "from numba import cuda, float32\n",
    "import numpy as np\n",
    "\n",
    "bpg = 5\n",
    "tpb = 24\n",
    "n = bpg * tpb\n",
    "\n",
    "@cuda.jit\n",
    "def cuda_square_matmul(A, B, C):\n",
    "    sA = cuda.shared.array(shape=(tpb, tpb), dtype=float32)\n",
    "    sB = cuda.shared.array(shape=(tpb, tpb), dtype=float32)\n",
    "    \n",
    "    tx = cuda.threadIdx.x\n",
    "    ty = cuda.threadIdx.y\n",
    "    bx = cuda.blockIdx.x\n",
    "    by = cuda.blockIdx.y\n",
    "    bw = cuda.blockDim.x\n",
    "    bh = cuda.blockDim.y\n",
    "\n",
    "    x = tx + bx * bw\n",
    "    y = ty + by * bh\n",
    "\n",
    "    acc = 0.\n",
    "    for i in range(bpg):\n",
    "        if x < n and y < n:\n",
    "            sA[ty, tx] = A[y, tx + i * tpb]\n",
    "            sB[ty, tx] = B[ty + i * tpb, x]\n",
    "\n",
    "        cuda.syncthreads()\n",
    "\n",
    "        if x < n and y < n:\n",
    "            for j in range(tpb):\n",
    "                acc += sA[ty, j] * sB[j, tx]\n",
    "\n",
    "        cuda.syncthreads()\n",
    "\n",
    "    if x < n and y < n:\n",
    "        C[y, x] = acc\n",
    "        \n",
    "A = np.array(np.random.random((n, n)), dtype=np.float32)\n",
    "B = np.array(np.random.random((n, n)), dtype=np.float32)\n",
    "\n",
    "dA = cuda.to_device(A)\n",
    "dB = cuda.to_device(B)\n",
    "dC = cuda.device_array_like(A)\n",
    "\n",
    "blocks = bpg, bpg\n",
    "threads = tpb, tpb\n",
    "cuda_square_matmul[blocks, threads](dA, dB, dC)\n",
    "C = dC.copy_to_host()\n",
    "print(C)"
   ]
  },
  {
   "cell_type": "markdown",
   "metadata": {
    "slideshow": {
     "slide_type": "subslide"
    }
   },
   "source": [
    "### HSA"
   ]
  },
  {
   "cell_type": "code",
   "execution_count": 29,
   "metadata": {
    "collapsed": false
   },
   "outputs": [],
   "source": [
    "from numba import hsa\n",
    "\n",
    "@hsa.jit\n",
    "def hsa_square_matmul(A, B, C):\n",
    "    x = hsa.get_global_id(0)\n",
    "    y = hsa.get_global_id(1)\n",
    "\n",
    "    tx = hsa.get_local_id(0)\n",
    "    ty = hsa.get_local_id(1)\n",
    "\n",
    "    sA = hsa.shared.array(shape=(blocksize, blocksize), dtype=float32)\n",
    "    sB = hsa.shared.array(shape=(blocksize, blocksize), dtype=float32)\n",
    "\n",
    "    if x >= C.shape[0] or y >= C.shape[1]:\n",
    "        return\n",
    "\n",
    "    tmp = 0\n",
    "\n",
    "    for i in range(gridsize):\n",
    "        # preload\n",
    "        sA[tx, ty] = A[x, ty + i * blocksize]\n",
    "        sB[tx, ty] = B[tx + i * blocksize, y]\n",
    "        # wait for preload to end\n",
    "        hsa.barrier()\n",
    "        # compute loop\n",
    "        for j in range(blocksize):\n",
    "            tmp += sA[tx, j] * sB[j, ty]\n",
    "        # wait for compute to end\n",
    "        hsa.barrier()\n",
    "\n",
    "    C[x, y] = tmp"
   ]
  },
  {
   "cell_type": "markdown",
   "metadata": {
    "slideshow": {
     "slide_type": "slide"
    }
   },
   "source": [
    "## How we use LLVM"
   ]
  },
  {
   "cell_type": "markdown",
   "metadata": {
    "slideshow": {
     "slide_type": "subslide"
    }
   },
   "source": [
    "* Our usecase: LLVM as a library\n",
    "* Compiler logic in Python\n",
    "* 1st attempt: binding at C++ layer\n",
    "    * Hard to maintain\n",
    "* 2nd attempt: Use a minimal C API"
   ]
  },
  {
   "cell_type": "markdown",
   "metadata": {
    "slideshow": {
     "slide_type": "subslide"
    }
   },
   "source": [
    "### Communicate by LLVM IR \n",
    "\n",
    "* llvmlite\n",
    "* reimplement IRBuilder in pure python\n",
    "    * SOLVE: multiple LLVM versions due to custom LLVM for CUDA and HSA"
   ]
  },
  {
   "cell_type": "markdown",
   "metadata": {
    "slideshow": {
     "slide_type": "subslide"
    }
   },
   "source": [
    "### Custom C-API\n",
    "\n",
    "* Many LLVM features don't have a C API\n",
    "* Most LLVM API are designed for extension in C++\n",
    "    * e.g. callback to pure virtual function\n",
    "* Not C extension friendly\n",
    "* Not other language friendly"
   ]
  },
  {
   "cell_type": "markdown",
   "metadata": {
    "slideshow": {
     "slide_type": "slide"
    }
   },
   "source": [
    "\n",
    "## Project that uses Numba\n",
    "\n",
    "* TaxBrian by Open Source Policy Center\n",
    "    * Let user simulate US economy due to tax policy changes\n",
    "    * Accelerate economy models\n",
    "* Bokeh\n",
    "    * Abstract rendering\n",
    "    * Compute scene to render\n",
    "* Many finance related usecases"
   ]
  },
  {
   "cell_type": "markdown",
   "metadata": {
    "slideshow": {
     "slide_type": "slide"
    }
   },
   "source": [
    "## Big win from simple compilation technique\n"
   ]
  },
  {
   "cell_type": "markdown",
   "metadata": {
    "slideshow": {
     "slide_type": "slide"
    }
   },
   "source": [
    "## Questions?\n",
    "\n",
    "\n",
    "#### Contact Us\n",
    "\n",
    "numba.pydata.org\n",
    "\n",
    "llvmlite.pydata.org\n"
   ]
  },
  {
   "cell_type": "markdown",
   "metadata": {
    "slideshow": {
     "slide_type": "slide"
    }
   },
   "source": [
    "# Extras"
   ]
  },
  {
   "cell_type": "markdown",
   "metadata": {
    "slideshow": {
     "slide_type": "subslide"
    }
   },
   "source": [
    "## Near Future of Numba\n",
    "\n",
    "* Working on support of classes a.k.a JIT classes\n",
    "* Expanding our Python subset\n",
    "* Expanding our NumPy API coverage\n",
    "* AOT compilation"
   ]
  },
  {
   "cell_type": "markdown",
   "metadata": {
    "slideshow": {
     "slide_type": "subslide"
    }
   },
   "source": [
    "## Numba Memory Management\n",
    "\n",
    "* Separate RefCt system from Python\n",
    "* Simple atomic reference count implemented in C\n",
    "* Determininistic\n",
    "* Compatible with CPython"
   ]
  }
 ],
 "metadata": {
  "celltoolbar": "Slideshow",
  "kernelspec": {
   "display_name": "Python 3",
   "language": "python",
   "name": "python3"
  },
  "language_info": {
   "codemirror_mode": {
    "name": "ipython",
    "version": 3
   },
   "file_extension": ".py",
   "mimetype": "text/x-python",
   "name": "python",
   "nbconvert_exporter": "python",
   "pygments_lexer": "ipython3",
   "version": "3.4.3"
  }
 },
 "nbformat": 4,
 "nbformat_minor": 0
}
